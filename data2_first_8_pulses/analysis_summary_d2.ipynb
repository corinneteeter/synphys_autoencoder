{
 "cells": [
  {
   "cell_type": "code",
   "execution_count": null,
   "metadata": {},
   "outputs": [],
   "source": [
    "import numpy as np\n",
    "import pandas as pd\n",
    "import matplotlib.pyplot as plt\n",
    "import seaborn as sns\n",
    "import scipy.io as sio\n",
    "sns.set()"
   ]
  },
  {
   "cell_type": "markdown",
   "metadata": {},
   "source": [
    "## Load files"
   ]
  },
  {
   "cell_type": "code",
   "execution_count": null,
   "metadata": {},
   "outputs": [],
   "source": [
    "# loading files from allen file system mat directory\n",
    "# mount_point    = '/Users/fruity/Remote-AI-root/allen/aibs' #Rohan's mount point\n",
    "# mount_point    = '/allen/aibs' #Corinne's mount point\n",
    "# data_dir       = mount_point + 'mat/Corinne/autoencoder/'\n",
    "#embeddings_dir = mount_point+'mat/Corinne/autoencoder/embeddings/'\n",
    "\n",
    "#Load Corinne's data file:\n",
    "#dat_df=pd.read_csv(data_dir+'ae_data_50hz_sequential_10_24_2019.csv', sep='#',low_memory=False)\n",
    "\n",
    "#Load embeddings:\n",
    "#mat = sio.loadmat(embeddings_dir+'TEST_cv_0_pd_0-2_bs_1000_ld_2_ne_10000_ri_0-summary.mat, \\\n",
    "#                  squeeze_me=True)"
   ]
  },
  {
   "cell_type": "code",
   "execution_count": null,
   "metadata": {},
   "outputs": [],
   "source": [
    "# loading files locally\n",
    "dat_df=pd.read_csv('ae_data_50hz_sequential_10_24_2019.csv', sep='#',low_memory=False)\n",
    "Z = sio.loadmat('TEST_cv_0_pd_0-2_bs_1000_ld_2_ne_10000_ri_0-summary.mat', squeeze_me=True)\n",
    "dat_df.keys()"
   ]
  },
  {
   "cell_type": "code",
   "execution_count": null,
   "metadata": {},
   "outputs": [],
   "source": [
    "#Separate out the annotations:\n",
    "anno_df = dat_df[dat_df.keys().values[0:11]]\n",
    "print('anno_df: ', anno_df.columns.values)"
   ]
  },
  {
   "cell_type": "code",
   "execution_count": null,
   "metadata": {},
   "outputs": [],
   "source": [
    "# make some new catagories to deal with unknown cre_lines\n",
    "anno_df['pre_cat']=anno_df['pre_cre']\n",
    "anno_df['post_cat']=anno_df['post_cre']\n",
    "anno_df['pre_cat'].loc[anno_df['species'] == 'human'] = 'human'\n",
    "anno_df['post_cat'].loc[anno_df['species'] == 'human'] = 'human'\n",
    "\n",
    "anno_df['pre_cat'].loc[(anno_df['pre_cre'] == 'unknown') & (anno_df['species'] == 'mouse') & (anno_df['pre_layer'] == '2/3')] = '2/3'\n",
    "anno_df['post_cat'].loc[(anno_df['post_cre'] == 'unknown') & (anno_df['species'] == 'mouse') & (anno_df['post_layer'] == '2/3')] = '2/3'\n",
    "\n",
    "anno_df['pre_cat'].loc[(anno_df['pre_cre'] == 'unknown') & (anno_df['species'] == 'mouse') & (anno_df['pre_layer'] == '4')] = '4'\n",
    "anno_df['post_cat'].loc[(anno_df['post_cre'] == 'unknown') & (anno_df['species'] == 'mouse') & (anno_df['post_layer'] == '4')] = '4'\n",
    "\n",
    "anno_df['pre_cat'].loc[(anno_df['pre_cre'] == 'unknown') & (anno_df['species'] == 'mouse') & (anno_df['pre_layer'] == '6')] = '6'\n",
    "anno_df['post_cat'].loc[(anno_df['post_cre'] == 'unknown') & (anno_df['species'] == 'mouse') & (anno_df['post_layer'] == '6')] = '6'\n",
    "\n",
    "anno_df['pre_cat'].loc[(anno_df['pre_cre'] == 'unknown') & (anno_df['species'] == 'mouse') & (anno_df['pre_layer'] == '5')] = '5'\n",
    "anno_df['post_cat'].loc[(anno_df['post_cre'] == 'unknown') & (anno_df['species'] == 'mouse') & (anno_df['post_layer'] == '5')] = '5'"
   ]
  },
  {
   "cell_type": "code",
   "execution_count": null,
   "metadata": {},
   "outputs": [],
   "source": [
    "#Annotation combinations\n",
    "anno_df = anno_df.assign(pre_post_cat=(anno_df['pre_cat'].map(str) + '_' + anno_df['post_cat'].map(str)))\n",
    "anno_df = anno_df.assign(pre_post_ex=(anno_df['pre_ex'].map(str) + '_' + anno_df['post_ex'].map(str)))\n",
    "\n",
    "#Assign numeric id to 'combined_anno'\n",
    "anno_df = anno_df.assign(num_pre_post_cat=(anno_df['pre_post_cat']).astype('category').cat.codes)\n",
    "anno_df = anno_df.assign(num_pre_post_ex=(anno_df['pre_post_ex']).astype('category').cat.codes)"
   ]
  },
  {
   "cell_type": "code",
   "execution_count": null,
   "metadata": {},
   "outputs": [],
   "source": [
    "anno_df.keys()"
   ]
  },
  {
   "cell_type": "code",
   "execution_count": null,
   "metadata": {},
   "outputs": [],
   "source": [
    "Z['zY']"
   ]
  },
  {
   "cell_type": "code",
   "execution_count": null,
   "metadata": {},
   "outputs": [],
   "source": [
    "plt.figure(figsize = (10,10))\n",
    "plt.scatter(Z['zY'][:,0], Z['zY'][:,1],s=1,c=anno_df['num_pre_post_ex'].values, cmap='viridis')\n",
    "plt.legend()\n",
    "ax = plt.gca()\n",
    "ax.set_xlim(-7,7)\n",
    "ax.set_ylim(-7,7)\n",
    "print(np.cov(np.transpose(Z['zX'])))"
   ]
  },
  {
   "cell_type": "code",
   "execution_count": null,
   "metadata": {},
   "outputs": [],
   "source": [
    "# this doesn't work yet\n",
    "import plotly\n",
    "import plotly.graph_objs as go\n",
    "\n",
    "# Configure Plotly to be rendered inline in the notebook.\n",
    "plotly.offline.init_notebook_mode()\n",
    "\n",
    "# Configure the trace.\n",
    "trace = go.Scatter3d(\n",
    "#    x=[1, 2, 3],  # <-- Put your data instead\n",
    "#    y=[4, 5, 6],  # <-- Put your data instead\n",
    "#    z=[7, 8, 9],  # <-- Put your data instead\n",
    "    x=Z['zX'][:,0], \n",
    "    y=Z['zX'][:,1],\n",
    "    z=Z['zX'][:,2],\n",
    "    s=1,\n",
    "    c=anno_df['num_pre_post_ex'].values, \n",
    "    cmap='viridis',\n",
    "    mode='markers',\n",
    "    marker={\n",
    "        'size': 10,\n",
    "        'opacity': 0.8,\n",
    "    }\n",
    ")\n",
    "\n",
    "# Configure the layout.\n",
    "layout = go.Layout(\n",
    "    margin={'l': 0, 'r': 0, 'b': 0, 't': 0}\n",
    ")\n",
    "\n",
    "data = [trace]\n",
    "\n",
    "plot_figure = go.Figure(data=data, layout=layout)\n",
    "\n",
    "# Render the plot.\n",
    "plotly.offline.iplot(plot_figure)"
   ]
  },
  {
   "cell_type": "code",
   "execution_count": null,
   "metadata": {},
   "outputs": [],
   "source": []
  }
 ],
 "metadata": {
  "kernelspec": {
   "display_name": "Python 3",
   "language": "python",
   "name": "python3"
  },
  "language_info": {
   "codemirror_mode": {
    "name": "ipython",
    "version": 3
   },
   "file_extension": ".py",
   "mimetype": "text/x-python",
   "name": "python",
   "nbconvert_exporter": "python",
   "pygments_lexer": "ipython3",
   "version": "3.7.3"
  }
 },
 "nbformat": 4,
 "nbformat_minor": 2
}
