{
 "cells": [
  {
   "cell_type": "code",
   "execution_count": null,
   "metadata": {},
   "outputs": [],
   "source": [
    "import numpy as np\n",
    "import pandas as pd\n",
    "import matplotlib.pyplot as plt\n",
    "import seaborn as sns\n",
    "import scipy.io as sio\n",
    "sns.set()\n",
    "from sklearn.model_selection import cross_val_score, train_test_split\n",
    "from sklearn.linear_model import LogisticRegression\n",
    "from sklearn.ensemble import RandomForestClassifier, ExtraTreesClassifier,  AdaBoostClassifier\n",
    "from sklearn.tree import DecisionTreeClassifier\n",
    "from sklearn import metrics\n",
    "import plotly\n",
    "import plotly.graph_objs as go\n",
    "\n",
    "# Configure Plotly to be rendered inline in the notebook.\n",
    "plotly.offline.init_notebook_mode()"
   ]
  },
  {
   "cell_type": "markdown",
   "metadata": {},
   "source": [
    "## Load files\n",
    "Data files were created via query code located at \n",
    "https://github.com/corinneteeter/multipatch_analysis/tree/autoencoder/analyses/autoencoder\n",
    "\n",
    "Embedding are generated via https://github.com/AllenInstitute/synphys"
   ]
  },
  {
   "cell_type": "code",
   "execution_count": null,
   "metadata": {},
   "outputs": [],
   "source": [
    "# loading files from allen file system mat directory\n",
    "# mount_point    = '/Users/fruity/Remote-AI-root/allen/aibs' #Rohan's mount point\n",
    "# mount_point    = '/allen/aibs' #Corinne's mount point\n",
    "# data_dir       = mount_point + 'mat/Corinne/autoencoder/'\n",
    "#embeddings_dir = mount_point+'mat/Corinne/autoencoder/embeddings/'\n",
    "\n",
    "#Load Corinne's data file:\n",
    "#dat_df=pd.read_csv(data_dir+'ae_data_50hz_sequential_10_24_2019.csv', sep='#',low_memory=False)\n",
    "\n",
    "#Load embeddings:\n",
    "#mat = sio.loadmat(embeddings_dir+'TEST_cv_0_pd_0-2_bs_1000_ld_2_ne_10000_ri_0-summary.mat, \\\n",
    "#                  squeeze_me=True)"
   ]
  },
  {
   "cell_type": "code",
   "execution_count": null,
   "metadata": {},
   "outputs": [],
   "source": [
    "# loading files locally\n",
    "#dat_df=pd.read_csv('ae_data_50hz_sequential_10_24_2019.csv', sep='#',low_memory=False) #file that didn't have pre_class and post_class\n",
    "dat_df=pd.read_csv('ae_data_50hz_sequential_10_24_2019UPDATE.csv', sep='#',low_memory=False) #this file has classes saved within\n",
    "embed2D = sio.loadmat('TEST_cv_0_pd_0-2_bs_1000_ld_2_ne_10000_ri_0-summary.mat', squeeze_me=True)\n",
    "embed3D = sio.loadmat('TEST-3D_cv_0_pd_0-2_bs_1000_ld_3_ne_10000_ri_0-summary.mat', squeeze_me=True)\n",
    "dat_df.keys()"
   ]
  },
  {
   "cell_type": "code",
   "execution_count": null,
   "metadata": {},
   "outputs": [],
   "source": [
    "#Separate out the annotations. Note this might change for different data files\n",
    "anno_df = dat_df[dat_df.keys().values[0:11]]\n",
    "print('anno_df: ', anno_df.columns.values)"
   ]
  },
  {
   "cell_type": "code",
   "execution_count": null,
   "metadata": {},
   "outputs": [],
   "source": [
    "# This cell is only needed if this is not assigned in the original file.  Now this is implimented by most \n",
    "# query calls at\n",
    "# https://github.com/corinneteeter/multipatch_analysis/blob/autoencoder/analyses/autoencoder/lib.py\n",
    "#\n",
    "# # make some new catagories to deal with unknown cre_lines\n",
    "# anno_df['pre_class']=anno_df['pre_cre']\n",
    "# anno_df['post_class']=anno_df['post_cre']\n",
    "# anno_df['pre_class'].loc[anno_df['species'] == 'human'] = 'human'\n",
    "# anno_df['post_class'].loc[anno_df['species'] == 'human'] = 'human'\n",
    "\n",
    "# anno_df['pre_class'].loc[(anno_df['pre_cre'] == 'unknown') & (anno_df['species'] == 'mouse') & (anno_df['pre_layer'] == '2/3')] = '2/3'\n",
    "# anno_df['post_class'].loc[(anno_df['post_cre'] == 'unknown') & (anno_df['species'] == 'mouse') & (anno_df['post_layer'] == '2/3')] = '2/3'\n",
    "\n",
    "# anno_df['pre_class'].loc[(anno_df['pre_cre'] == 'unknown') & (anno_df['species'] == 'mouse') & (anno_df['pre_layer'] == '4')] = '4'\n",
    "# anno_df['post_class'].loc[(anno_df['post_cre'] == 'unknown') & (anno_df['species'] == 'mouse') & (anno_df['post_layer'] == '4')] = '4'\n",
    "\n",
    "# anno_df['pre_class'].loc[(anno_df['pre_cre'] == 'unknown') & (anno_df['species'] == 'mouse') & (anno_df['pre_layer'] == '6')] = '6'\n",
    "# anno_df['post_class'].loc[(anno_df['post_cre'] == 'unknown') & (anno_df['species'] == 'mouse') & (anno_df['post_layer'] == '6')] = '6'\n",
    "\n",
    "# anno_df['pre_class'].loc[(anno_df['pre_cre'] == 'unknown') & (anno_df['species'] == 'mouse') & (anno_df['pre_layer'] == '5')] = '5'\n",
    "# anno_df['post_class'].loc[(anno_df['post_cre'] == 'unknown') & (anno_df['species'] == 'mouse') & (anno_df['post_layer'] == '5')] = '5'"
   ]
  },
  {
   "cell_type": "code",
   "execution_count": null,
   "metadata": {},
   "outputs": [],
   "source": [
    "anno_df['post_class'].unique()"
   ]
  },
  {
   "cell_type": "code",
   "execution_count": null,
   "metadata": {
    "scrolled": true
   },
   "outputs": [],
   "source": [
    "#Annotation combinations\n",
    "anno_df = anno_df.assign(pre_post_class=(anno_df['pre_class'].map(str) + '_' + anno_df['post_class'].map(str)))\n",
    "anno_df = anno_df.assign(pre_post_ex=(anno_df['pre_ex'].map(str) + '_' + anno_df['post_ex'].map(str)))\n",
    "\n",
    "#Assign numeric id to 'combined_anno'\n",
    "anno_df = anno_df.assign(num_pre_post_class=(anno_df['pre_post_class']).astype('category').cat.codes)\n",
    "anno_df = anno_df.assign(num_pre_post_ex=(anno_df['pre_post_ex']).astype('category').cat.codes)"
   ]
  },
  {
   "cell_type": "code",
   "execution_count": null,
   "metadata": {},
   "outputs": [],
   "source": [
    "# make one DataFrame so it is easy to exclude data\n",
    "df = anno_df\n",
    "df.shape\n",
    "print(embed2D['zX'].shape)\n",
    "print(embed3D['zX'].shape)\n",
    "print(df.shape)\n",
    "df = df.join(pd.DataFrame(embed2D['zX'], columns = ['z2Da', 'z2Db']))\n",
    "df = df.join((pd.DataFrame(embed3D['zX'], columns = ['z3Da', 'z3Db', 'z3Dc' ])))\n",
    "df.keys()"
   ]
  },
  {
   "cell_type": "markdown",
   "metadata": {},
   "source": [
    "# Look at classification of pre synaptic neuron based on excitation"
   ]
  },
  {
   "cell_type": "code",
   "execution_count": null,
   "metadata": {},
   "outputs": [],
   "source": [
    "# get rid of unknown excitation\n",
    "df_ex = df[df['pre_ex'] != 'U']\n",
    "\n",
    "#Assign numeric catatory for plotting\n",
    "df_ex = df_ex.assign(num_pre_ex=(df_ex['pre_ex']).astype('category').cat.codes)"
   ]
  },
  {
   "cell_type": "markdown",
   "metadata": {},
   "source": [
    "### 2D embedding"
   ]
  },
  {
   "cell_type": "code",
   "execution_count": null,
   "metadata": {
    "scrolled": true
   },
   "outputs": [],
   "source": [
    "X2D = df_ex[['z2Da', 'z2Db']].values\n",
    "plt.figure(figsize = (15,15))\n",
    "plt.scatter(X2D[:,0], X2D[:,1], s=1, c=df_ex['num_pre_ex'].values, cmap='viridis')\n",
    "ax = plt.gca()\n",
    "ax.set_xlim(-4,4)\n",
    "ax.set_ylim(-4,4)"
   ]
  },
  {
   "cell_type": "code",
   "execution_count": null,
   "metadata": {},
   "outputs": [],
   "source": [
    "y = df_ex['num_pre_ex'].values"
   ]
  },
  {
   "cell_type": "code",
   "execution_count": null,
   "metadata": {},
   "outputs": [],
   "source": [
    "# Train a Random Forrest on this to see how well it can be classified\n",
    "y = df_ex['num_pre_ex'].values\n",
    "X_train, X_test, y_train, y_test = train_test_split(X2D, y, stratify = y) #split up data based on equal number of y output\n",
    "clf =  RandomForestClassifier(max_depth=None, min_samples_split=2).fit(X_train, y_train)\n",
    "#clf = LogisticRegression().fit(X_train, y_train)\n",
    "y_predict = clf.predict(X_test)\n",
    "print('RF accuracy', clf.score(X_test, y_test))\n",
    "print('base line accuracy', sum(y_test == 1)/len(y_test))\n",
    "print('confusion', metrics.confusion_matrix(y_test, y_predict))"
   ]
  },
  {
   "cell_type": "markdown",
   "metadata": {},
   "source": [
    "#### Look in 3D"
   ]
  },
  {
   "cell_type": "code",
   "execution_count": null,
   "metadata": {},
   "outputs": [],
   "source": [
    "X3D = df_ex[['z3Da', 'z3Db', 'z3Dc']].values\n",
    "X3D"
   ]
  },
  {
   "cell_type": "code",
   "execution_count": null,
   "metadata": {},
   "outputs": [],
   "source": [
    "# Configure the trace.\n",
    "trace = go.Scatter3d(\n",
    "#    x=[1, 2, 3],  # <-- Put your data instead\n",
    "#    y=[4, 5, 6],  # <-- Put your data instead\n",
    "#    z=[7, 8, 9],  # <-- Put your data instead\n",
    "    x=X3D[:,0], \n",
    "    y=X3D[:,1],\n",
    "    z=X3D[:,2],\n",
    "#    s=1,\n",
    "    mode = 'markers',\n",
    "    marker = dict(\n",
    "        size = 5,\n",
    "        color=df_ex['num_pre_ex'].values, \n",
    "        colorscale='viridis',\n",
    "        colorbar = dict()),\n",
    ")\n",
    "\n",
    "# Configure the layout.\n",
    "layout = go.Layout(\n",
    "    margin={'l': 0, 'r': 0, 'b': 0, 't': 0}\n",
    ")\n",
    "\n",
    "data = [trace]\n",
    "plot_figure = go.Figure(data=data, layout=layout)\n",
    "\n",
    "# Render the plot.\n",
    "plotly.offline.iplot(plot_figure)"
   ]
  },
  {
   "cell_type": "markdown",
   "metadata": {},
   "source": [
    "# Look at cre_lines"
   ]
  },
  {
   "cell_type": "code",
   "execution_count": null,
   "metadata": {},
   "outputs": [],
   "source": [
    "df.groupby(by='num_pre_post_class').describe()\n"
   ]
  },
  {
   "cell_type": "code",
   "execution_count": null,
   "metadata": {},
   "outputs": [],
   "source": [
    "update this to represent the small number of cre-lines below is not right\n",
    "\n",
    "df_cre= df[df['pre_ex'] != 'U']\n",
    "\n",
    "#Assign numeric catatory for plotting\n",
    "df_ex = df_ex.assign(num_pre_ex=(df_ex['pre_ex']).astype('category').cat.codes)\n"
   ]
  },
  {
   "cell_type": "code",
   "execution_count": null,
   "metadata": {},
   "outputs": [],
   "source": [
    "plt.figure(figsize = (15,15))\n",
    "plt.scatter(X2D['zX'][:,0], X2D['zX'][:,1], s=1, c=anno_df['num_pre_post_class'].values, cmap='viridis')\n",
    "ax = plt.gca()\n",
    "ax.set_xlim(-7,7)\n",
    "ax.set_ylim(-7,7)\n",
    "print(np.cov(np.transpose(Z2D['zX'])))"
   ]
  },
  {
   "cell_type": "code",
   "execution_count": null,
   "metadata": {},
   "outputs": [],
   "source": [
    "X = Z['zX']\n",
    "y = anno_df['num_pre_post_ex'].values\n",
    "clf = DecisionTreeClassifier(max_depth=None, min_samples_split=2,\n",
    "     random_state=0)\n",
    "scores = cross_val_score(clf, X, y, cv=5)\n",
    "scores.mean()                               "
   ]
  },
  {
   "cell_type": "code",
   "execution_count": null,
   "metadata": {},
   "outputs": [],
   "source": [
    "# Configure the trace.\n",
    "X3D = df[['z3Da', 'z3Db', 'z3Dc']].values\n",
    "trace = go.Scatter3d(\n",
    "#    x=[1, 2, 3],  # <-- Put your data instead\n",
    "#    y=[4, 5, 6],  # <-- Put your data instead\n",
    "#    z=[7, 8, 9],  # <-- Put your data instead\n",
    "    x=X3D[:,0], \n",
    "    y=X3D[:,1],\n",
    "    z=X3D[:,2],\n",
    "#    s=1,\n",
    "    mode = 'markers',\n",
    "    marker = dict(\n",
    "        size = 5,\n",
    "        color=df['num_pre_post_class'].values, \n",
    "        colorscale='viridis',\n",
    "        colorbar = dict()),\n",
    ")\n",
    "\n",
    "# Configure the layout.\n",
    "layout = go.Layout(\n",
    "    margin={'l': 0, 'r': 0, 'b': 0, 't': 0}\n",
    ")\n",
    "\n",
    "data = [trace]\n",
    "plot_figure = go.Figure(data=data, layout=layout)\n",
    "\n",
    "# Render the plot.\n",
    "plotly.offline.iplot(plot_figure)"
   ]
  },
  {
   "cell_type": "code",
   "execution_count": null,
   "metadata": {},
   "outputs": [],
   "source": []
  },
  {
   "cell_type": "code",
   "execution_count": null,
   "metadata": {},
   "outputs": [],
   "source": []
  },
  {
   "cell_type": "code",
   "execution_count": null,
   "metadata": {},
   "outputs": [],
   "source": [
    "clf.fit(X, y)"
   ]
  },
  {
   "cell_type": "code",
   "execution_count": null,
   "metadata": {},
   "outputs": [],
   "source": [
    "X_train, X_test, y_train, y_test = train_test_split(X, y, stratify = y) #split up data based on equal number of y output\n",
    "clf =  AdaBoostClassifier(RandomForestClassifier(max_depth=None, min_samples_split=2,\n",
    "     random_state=0)).fit(X_train, y_train)\n",
    "clf.predict(X_test)\n",
    "clf.score(X_test, y_test)"
   ]
  }
 ],
 "metadata": {
  "kernelspec": {
   "display_name": "Python 3",
   "language": "python",
   "name": "python3"
  },
  "language_info": {
   "codemirror_mode": {
    "name": "ipython",
    "version": 3
   },
   "file_extension": ".py",
   "mimetype": "text/x-python",
   "name": "python",
   "nbconvert_exporter": "python",
   "pygments_lexer": "ipython3",
   "version": "3.7.3"
  }
 },
 "nbformat": 4,
 "nbformat_minor": 2
}
