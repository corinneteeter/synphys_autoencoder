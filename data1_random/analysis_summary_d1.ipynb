{
 "cells": [
  {
   "cell_type": "code",
   "execution_count": 1,
   "metadata": {},
   "outputs": [],
   "source": [
    "import numpy as np\n",
    "import pandas as pd\n",
    "import matplotlib.pyplot as plt\n",
    "import seaborn as sns\n",
    "import scipy.io as sio\n",
    "sns.set()"
   ]
  },
  {
   "cell_type": "markdown",
   "metadata": {},
   "source": [
    "## Load files"
   ]
  },
  {
   "cell_type": "code",
   "execution_count": 2,
   "metadata": {},
   "outputs": [],
   "source": [
    "# loading files from allen file system mat directory\n",
    "\n",
    "# mount_point    = '/Users/fruity/Remote-AI-root/allen/aibs' #Rohan's mount point\n",
    "#mount_point    = '/allen/aibs' #Corinne's mount point\n",
    "#data_dir       = mount_point + 'mat/Corinne/autoencoder/'\n",
    "#embeddings_dir = mount_point+'mat/Corinne/autoencoder/embeddings/'\n",
    "\n",
    "# Load Corinne's data file:\n",
    "#dat_df=pd.read_csv(data_dir+'autoencoder_data_09_06_2019.csv', sep='#',low_memory=False)\n",
    "\n",
    "# Load embeddings:\n",
    "#mat = sio.loadmat(embeddings_dir+'std_data_run_0_cv_0_ng_500_pd_0-5_bs_1000_ld_2_ne_5000_ri_0-summary.mat', \\\n",
    "#                  squeeze_me=True)"
   ]
  },
  {
   "cell_type": "code",
   "execution_count": 4,
   "metadata": {},
   "outputs": [
    {
     "data": {
      "text/plain": [
       "Index(['pair_identifier', 'stp_induction_50hz', 'pre_ex', 'post_ex',\n",
       "       'pre_class', 'post_class', 'pre_cre', 'post_cre', 'pre_layer',\n",
       "       'post_layer'],\n",
       "      dtype='object')"
      ]
     },
     "execution_count": 4,
     "metadata": {},
     "output_type": "execute_result"
    }
   ],
   "source": [
    "# loading files locally\n",
    "#dat_df=pd.read_csv('autoencoder_data_09_06_2019.csv', sep='#',low_memory=False) #old file that actual embedding was done on\n",
    "dat_df = pd.read_csv('ae_data_09_06_2019UPDATE.csv', sep='#',low_memory=False) #new file with added descriptive columns\n",
    "Z2D = sio.loadmat('std_data_run_0_cv_0_ng_500_pd_0-5_bs_1000_ld_2_ne_5000_ri_0-summary.mat', \\\n",
    "                  squeeze_me=True)\n",
    "num_descriptive_features = 10 #might want to verify this\n",
    "dat_df.keys()[0:num_descriptive_features] #"
   ]
  },
  {
   "cell_type": "code",
   "execution_count": 11,
   "metadata": {},
   "outputs": [
    {
     "data": {
      "text/plain": [
       "Index(['pair_identifier', 'stp_induction_50hz', 'pre_ex', 'post_ex',\n",
       "       'pre_class', 'post_class', 'pre_cre', 'post_cre', 'pre_layer',\n",
       "       'post_layer', '('ic, 10.0, 0.25', 'amp', 1)'],\n",
       "      dtype='object')"
      ]
     },
     "execution_count": 11,
     "metadata": {},
     "output_type": "execute_result"
    }
   ],
   "source": [
    "dat_df.keys()[0:11]"
   ]
  },
  {
   "cell_type": "code",
   "execution_count": 5,
   "metadata": {},
   "outputs": [
    {
     "name": "stdout",
     "output_type": "stream",
     "text": [
      "anno_df:  ['pair_identifier' 'stp_induction_50hz' 'pre_ex' 'post_ex' 'pre_class'\n",
      " 'post_class' 'pre_cre' 'post_cre' 'pre_layer' 'post_layer']\n"
     ]
    }
   ],
   "source": [
    "#Separate out the annotations:\n",
    "anno_df = dat_df[dat_df.keys().values[0:num_descriptive_features]]\n",
    "print('anno_df: ', anno_df.columns.values)"
   ]
  },
  {
   "cell_type": "markdown",
   "metadata": {},
   "source": [
    "The features are sparsely populated. Only ~500 features have ~ at least 10% non-nans across cells."
   ]
  },
  {
   "cell_type": "code",
   "execution_count": 6,
   "metadata": {},
   "outputs": [
    {
     "data": {
      "image/png": "[encoded data removed]",
      "text/plain": [
       "<Figure size 288x288 with 1 Axes>"
      ]
     },
     "metadata": {
      "needs_background": "light"
     },
     "output_type": "display_data"
    }
   ],
   "source": [
    "feature_list = dat_df.keys().values[num_descriptive_features:]\n",
    "data = dat_df[feature_list].values\n",
    "\n",
    "#Fraction of non-nans per feature:\n",
    "plt.figure(figsize=(4,4))\n",
    "plt.plot(1 - np.sort(np.sum(np.isnan(data)/np.shape(data)[0],axis = 0)))\n",
    "ax = plt.gca()\n",
    "ax.set_ylabel('Fraction of non-nans')\n",
    "ax.set_xlabel('Features sorted by fraction of non-nans')\n",
    "plt.show()"
   ]
  },
  {
   "cell_type": "code",
   "execution_count": 7,
   "metadata": {},
   "outputs": [],
   "source": [
    "#Feature indices sorted by fraction of nans:\n",
    "keep_n_features = 500\n",
    "ind = np.argsort(np.sum(np.isnan(data)/np.shape(data)[0],axis = 0))\n",
    "keep = ind[0:keep_n_features] #Because sorting is in ascending order\n",
    "data_sorted = data[:,keep]\n",
    "mask_sorted = np.isnan(data_sorted).astype('float')\n",
    "feature_list_sorted = feature_list[keep]"
   ]
  },
  {
   "cell_type": "code",
   "execution_count": 8,
   "metadata": {},
   "outputs": [
    {
     "name": "stdout",
     "output_type": "stream",
     "text": [
      "('ic, 50.0, 0.25', 'latency', 2)\n",
      "('ic, 50.0, 0.25', 'rise_time', 2)\n",
      "('ic, 50.0, 0.25', 'amp', 4)\n",
      "('ic, 50.0, 0.25', 'decay_tau', 2)\n",
      "('ic, 50.0, 0.25', 'rise_time', 4)\n",
      "('ic, 50.0, 0.25', 'latency', 4)\n",
      "('ic, 50.0, 0.25', 'amp', 2)\n",
      "('ic, 50.0, 0.25', 'decay_tau', 4)\n",
      "('ic, 50.0, 0.25', 'rise_time', 3)\n",
      "('ic, 50.0, 0.25', 'latency', 3)\n",
      "('ic, 50.0, 0.25', 'amp', 3)\n",
      "('ic, 50.0, 0.25', 'decay_tau', 3)\n",
      "('ic, 50.0, 0.25', 'rise_time', 5)\n",
      "('ic, 50.0, 0.25', 'amp', 5)\n",
      "('ic, 50.0, 0.25', 'decay_tau', 5)\n",
      "('ic, 50.0, 0.25', 'latency', 5)\n",
      "('ic, 50.0, 0.25', 'rise_time', 10)\n",
      "('ic, 50.0, 0.25', 'amp', 10)\n",
      "('ic, 50.0, 0.25', 'latency', 10)\n",
      "('ic, 50.0, 0.25', 'decay_tau', 10)\n",
      "('ic, 50.0, 0.25', 'rise_time', 11)\n",
      "('ic, 50.0, 0.25', 'latency', 11)\n",
      "('ic, 50.0, 0.25', 'amp', 11)\n",
      "('ic, 50.0, 0.25', 'decay_tau', 11)\n",
      "('ic, 50.0, 0.25', 'amp', 6)\n",
      "('ic, 50.0, 0.25', 'rise_time', 6)\n",
      "('ic, 50.0, 0.25', 'decay_tau', 6)\n",
      "('ic, 50.0, 0.25', 'latency', 6)\n",
      "('ic, 50.0, 0.25', 'latency', 12)\n",
      "('ic, 50.0, 0.25', 'decay_tau', 12)\n",
      "('ic, 50.0, 0.25', 'amp', 12)\n",
      "('ic, 50.0, 0.25', 'rise_time', 12)\n",
      "('ic, 50.0, 0.25', 'latency', 7)\n",
      "('ic, 50.0, 0.25', 'decay_tau', 7)\n",
      "('ic, 50.0, 0.25', 'amp', 7)\n",
      "('ic, 50.0, 0.25', 'rise_time', 7)\n",
      "('ic, 50.0, 0.25', 'decay_tau', 8)\n",
      "('ic, 50.0, 0.25', 'amp', 8)\n",
      "('ic, 50.0, 0.25', 'rise_time', 8)\n",
      "('ic, 50.0, 0.25', 'latency', 8)\n",
      "('ic, 50.0, 0.25', 'decay_tau', 1)\n",
      "('ic, 50.0, 0.25', 'latency', 1)\n",
      "('ic, 50.0, 0.25', 'amp', 1)\n",
      "('ic, 50.0, 0.25', 'rise_time', 1)\n",
      "('ic, 50.0, 0.25', 'amp', 9)\n",
      "('ic, 50.0, 0.25', 'rise_time', 9)\n",
      "('ic, 50.0, 0.25', 'decay_tau', 9)\n",
      "('ic, 50.0, 0.25', 'latency', 9)\n",
      "('ic, 50.0, 1.0', 'latency', 3)\n",
      "('ic, 50.0, 1.0', 'decay_tau', 3)\n",
      "('ic, 50.0, 1.0', 'rise_time', 3)\n",
      "('ic, 50.0, 1.0', 'amp', 3)\n",
      "('ic, 50.0, 1.0', 'rise_time', 4)\n",
      "('ic, 50.0, 1.0', 'amp', 4)\n",
      "('ic, 50.0, 0.5', 'rise_time', 4)\n",
      "('ic, 50.0, 1.0', 'latency', 4)\n",
      "('ic, 50.0, 0.5', 'latency', 4)\n",
      "('ic, 50.0, 0.5', 'decay_tau', 4)\n",
      "('ic, 50.0, 1.0', 'decay_tau', 4)\n",
      "('ic, 50.0, 0.5', 'amp', 4)\n",
      "('ic, 50.0, 4.0', 'amp', 3)\n",
      "('ic, 50.0, 0.5', 'rise_time', 3)\n",
      "('ic, 50.0, 4.0', 'latency', 3)\n",
      "('ic, 50.0, 0.5', 'latency', 3)\n",
      "('ic, 50.0, 0.5', 'decay_tau', 3)\n",
      "('ic, 50.0, 1.0', 'latency', 2)\n",
      "('ic, 50.0, 1.0', 'rise_time', 2)\n",
      "('ic, 50.0, 0.5', 'amp', 3)\n",
      "('ic, 50.0, 1.0', 'decay_tau', 2)\n",
      "('ic, 50.0, 4.0', 'rise_time', 3)\n",
      "('ic, 50.0, 4.0', 'decay_tau', 3)\n",
      "('ic, 50.0, 1.0', 'amp', 2)\n",
      "('ic, 50.0, 0.5', 'latency', 2)\n",
      "('ic, 50.0, 0.5', 'rise_time', 2)\n",
      "('ic, 50.0, 0.5', 'amp', 2)\n",
      "('ic, 50.0, 1.0', 'amp', 11)\n",
      "('ic, 50.0, 0.5', 'decay_tau', 2)\n",
      "('ic, 50.0, 1.0', 'latency', 11)\n",
      "('ic, 50.0, 1.0', 'rise_time', 11)\n",
      "('ic, 50.0, 1.0', 'latency', 10)\n",
      "('ic, 50.0, 4.0', 'rise_time', 4)\n",
      "('ic, 50.0, 1.0', 'amp', 10)\n",
      "('ic, 50.0, 0.5', 'amp', 5)\n",
      "('ic, 50.0, 1.0', 'decay_tau', 5)\n",
      "('ic, 50.0, 1.0', 'rise_time', 10)\n",
      "('ic, 50.0, 1.0', 'decay_tau', 11)\n",
      "('ic, 50.0, 4.0', 'latency', 4)\n",
      "('ic, 50.0, 0.5', 'rise_time', 5)\n",
      "('ic, 50.0, 1.0', 'latency', 5)\n",
      "('ic, 50.0, 1.0', 'amp', 5)\n",
      "('ic, 50.0, 4.0', 'decay_tau', 4)\n",
      "('ic, 50.0, 0.5', 'decay_tau', 5)\n",
      "('ic, 50.0, 1.0', 'rise_time', 5)\n",
      "('ic, 50.0, 1.0', 'decay_tau', 10)\n",
      "('ic, 50.0, 0.5', 'latency', 5)\n",
      "('ic, 50.0, 4.0', 'amp', 4)\n",
      "('ic, 50.0, 0.5', 'latency', 11)\n",
      "('ic, 50.0, 4.0', 'rise_time', 11)\n",
      "('ic, 50.0, 0.5', 'decay_tau', 11)\n",
      "('ic, 50.0, 0.5', 'rise_time', 11)\n",
      "('ic, 50.0, 0.5', 'amp', 11)\n",
      "('ic, 50.0, 4.0', 'decay_tau', 11)\n",
      "('ic, 50.0, 4.0', 'amp', 2)\n",
      "('ic, 50.0, 4.0', 'latency', 11)\n",
      "('ic, 50.0, 4.0', 'amp', 11)\n",
      "('ic, 50.0, 4.0', 'latency', 2)\n",
      "('ic, 50.0, 4.0', 'decay_tau', 2)\n",
      "('ic, 50.0, 4.0', 'rise_time', 2)\n",
      "('ic, 50.0, 0.5', 'amp', 10)\n",
      "('ic, 50.0, 0.5', 'decay_tau', 10)\n",
      "('ic, 50.0, 0.5', 'latency', 10)\n",
      "('ic, 50.0, 0.5', 'rise_time', 10)\n",
      "('ic, 50.0, 4.0', 'amp', 6)\n",
      "('ic, 50.0, 4.0', 'latency', 6)\n",
      "('ic, 50.0, 4.0', 'rise_time', 12)\n",
      "('ic, 50.0, 4.0', 'decay_tau', 6)\n",
      "('ic, 50.0, 4.0', 'amp', 12)\n",
      "('ic, 50.0, 4.0', 'rise_time', 6)\n",
      "('ic, 50.0, 1.0', 'amp', 12)\n",
      "('ic, 50.0, 4.0', 'latency', 12)\n",
      "('ic, 50.0, 4.0', 'decay_tau', 12)\n",
      "('ic, 50.0, 1.0', 'decay_tau', 12)\n",
      "('ic, 50.0, 1.0', 'latency', 12)\n",
      "('ic, 50.0, 4.0', 'rise_time', 5)\n",
      "('ic, 50.0, 1.0', 'rise_time', 12)\n",
      "('ic, 50.0, 4.0', 'decay_tau', 5)\n",
      "('ic, 50.0, 0.5', 'amp', 12)\n",
      "('ic, 50.0, 4.0', 'amp', 5)\n",
      "('ic, 50.0, 4.0', 'latency', 5)\n",
      "('ic, 50.0, 0.5', 'decay_tau', 12)\n",
      "('ic, 50.0, 0.5', 'rise_time', 12)\n",
      "('ic, 50.0, 4.0', 'rise_time', 10)\n",
      "('ic, 50.0, 0.5', 'latency', 12)\n",
      "('ic, 50.0, 4.0', 'amp', 10)\n",
      "('ic, 50.0, 4.0', 'decay_tau', 10)\n",
      "('ic, 50.0, 4.0', 'latency', 10)\n",
      "('ic, 50.0, 1.0', 'latency', 6)\n",
      "('ic, 50.0, 1.0', 'rise_time', 6)\n",
      "('ic, 50.0, 1.0', 'decay_tau', 6)\n",
      "('ic, 50.0, 1.0', 'amp', 6)\n",
      "('ic, 50.0, 0.5', 'rise_time', 6)\n",
      "('ic, 50.0, 0.5', 'latency', 6)\n",
      "('ic, 50.0, 0.5', 'decay_tau', 6)\n",
      "('ic, 50.0, 0.5', 'amp', 6)\n",
      "('ic, 50.0, 1.0', 'decay_tau', 7)\n",
      "('ic, 50.0, 1.0', 'rise_time', 7)\n",
      "('ic, 50.0, 1.0', 'latency', 7)\n",
      "('ic, 50.0, 1.0', 'amp', 7)\n",
      "('ic, 50.0, 4.0', 'decay_tau', 7)\n",
      "('ic, 50.0, 4.0', 'rise_time', 7)\n",
      "('ic, 50.0, 4.0', 'latency', 7)\n",
      "('ic, 50.0, 4.0', 'amp', 7)\n",
      "('ic, 50.0, 0.5', 'amp', 7)\n",
      "('ic, 50.0, 0.5', 'latency', 7)\n",
      "('ic, 50.0, 0.5', 'rise_time', 7)\n",
      "('ic, 50.0, 0.5', 'decay_tau', 7)\n",
      "('ic, 50.0, 0.5', 'rise_time', 8)\n",
      "('ic, 50.0, 0.5', 'amp', 8)\n",
      "('ic, 50.0, 0.5', 'decay_tau', 8)\n",
      "('ic, 50.0, 0.5', 'latency', 8)\n",
      "('ic, 50.0, 1.0', 'decay_tau', 8)\n",
      "('ic, 50.0, 1.0', 'latency', 8)\n",
      "('ic, 50.0, 1.0', 'amp', 8)\n",
      "('ic, 50.0, 1.0', 'rise_time', 8)\n",
      "('ic, 50.0, 4.0', 'amp', 8)\n",
      "('ic, 50.0, 4.0', 'decay_tau', 8)\n",
      "('ic, 50.0, 4.0', 'rise_time', 8)\n",
      "('ic, 50.0, 4.0', 'latency', 8)\n",
      "('ic, 50.0, 1.0', 'latency', 1)\n",
      "('ic, 50.0, 1.0', 'rise_time', 1)\n",
      "('ic, 50.0, 1.0', 'amp', 1)\n",
      "('ic, 50.0, 1.0', 'decay_tau', 1)\n",
      "('ic, 50.0, 0.5', 'decay_tau', 1)\n",
      "('ic, 50.0, 0.5', 'latency', 1)\n",
      "('ic, 50.0, 0.5', 'rise_time', 1)\n",
      "('ic, 50.0, 0.5', 'amp', 1)\n",
      "('ic, 50.0, 4.0', 'latency', 1)\n",
      "('ic, 50.0, 4.0', 'amp', 1)\n",
      "('ic, 50.0, 4.0', 'rise_time', 1)\n",
      "('ic, 50.0, 4.0', 'decay_tau', 1)\n",
      "('ic, 50.0, 1.0', 'decay_tau', 9)\n",
      "('ic, 50.0, 1.0', 'rise_time', 9)\n",
      "('ic, 50.0, 1.0', 'latency', 9)\n",
      "('ic, 50.0, 1.0', 'amp', 9)\n",
      "('ic, 50.0, 4.0', 'latency', 9)\n",
      "('ic, 50.0, 4.0', 'amp', 9)\n",
      "('ic, 50.0, 4.0', 'rise_time', 9)\n",
      "('ic, 50.0, 4.0', 'decay_tau', 9)\n",
      "('ic, 50.0, 0.5', 'latency', 9)\n",
      "('ic, 50.0, 0.5', 'decay_tau', 9)\n",
      "('ic, 50.0, 0.5', 'amp', 9)\n",
      "('ic, 50.0, 0.5', 'rise_time', 9)\n",
      "('ic, 20.0, 0.25', 'amp', 2)\n",
      "('ic, 20.0, 0.25', 'decay_tau', 2)\n",
      "('ic, 20.0, 0.25', 'latency', 2)\n",
      "('ic, 20.0, 0.25', 'rise_time', 2)\n",
      "('ic, 20.0, 0.25', 'latency', 3)\n",
      "('ic, 20.0, 0.25', 'amp', 3)\n",
      "('ic, 20.0, 0.25', 'rise_time', 3)\n",
      "('ic, 20.0, 0.25', 'amp', 4)\n",
      "('ic, 20.0, 0.25', 'decay_tau', 4)\n",
      "('ic, 20.0, 0.25', 'latency', 4)\n",
      "('ic, 20.0, 0.25', 'rise_time', 4)\n",
      "('ic, 20.0, 0.25', 'decay_tau', 3)\n",
      "('ic, 20.0, 0.25', 'amp', 5)\n",
      "('ic, 20.0, 0.25', 'rise_time', 5)\n",
      "('ic, 20.0, 0.25', 'decay_tau', 5)\n",
      "('ic, 20.0, 0.25', 'latency', 5)\n",
      "('ic, 20.0, 0.25', 'rise_time', 10)\n",
      "('ic, 20.0, 0.25', 'decay_tau', 10)\n",
      "('ic, 20.0, 0.25', 'amp', 10)\n",
      "('ic, 20.0, 0.25', 'latency', 10)\n",
      "('ic, 20.0, 0.25', 'latency', 7)\n",
      "('ic, 20.0, 0.25', 'decay_tau', 7)\n",
      "('ic, 20.0, 0.25', 'rise_time', 7)\n",
      "('ic, 20.0, 0.25', 'amp', 7)\n",
      "('ic, 20.0, 0.25', 'latency', 11)\n",
      "('ic, 20.0, 0.25', 'rise_time', 11)\n",
      "('ic, 20.0, 0.25', 'decay_tau', 12)\n",
      "('ic, 20.0, 0.25', 'latency', 6)\n",
      "('ic, 20.0, 0.25', 'decay_tau', 11)\n",
      "('ic, 20.0, 0.25', 'amp', 12)\n",
      "('ic, 20.0, 0.25', 'amp', 11)\n",
      "('ic, 20.0, 0.25', 'amp', 6)\n",
      "('ic, 20.0, 0.25', 'decay_tau', 6)\n",
      "('ic, 20.0, 0.25', 'latency', 12)\n",
      "('ic, 20.0, 0.25', 'rise_time', 12)\n",
      "('ic, 20.0, 0.25', 'rise_time', 6)\n",
      "('ic, 20.0, 0.25', 'decay_tau', 8)\n",
      "('ic, 20.0, 0.25', 'rise_time', 8)\n",
      "('ic, 20.0, 0.25', 'latency', 8)\n",
      "('ic, 20.0, 0.25', 'amp', 8)\n",
      "('ic, 20.0, 0.25', 'latency', 1)\n",
      "('ic, 20.0, 0.25', 'amp', 1)\n",
      "('ic, 20.0, 0.25', 'rise_time', 1)\n",
      "('ic, 20.0, 0.25', 'decay_tau', 1)\n",
      "('ic, 20.0, 0.25', 'amp', 9)\n",
      "('ic, 20.0, 0.25', 'latency', 9)\n",
      "('ic, 20.0, 0.25', 'decay_tau', 9)\n",
      "('ic, 20.0, 0.25', 'rise_time', 9)\n",
      "('ic, 100.0, 0.25', 'rise_time', 2)\n",
      "('ic, 100.0, 0.25', 'latency', 2)\n",
      "('ic, 100.0, 0.25', 'decay_tau', 2)\n",
      "('ic, 100.0, 0.25', 'amp', 2)\n",
      "('ic, 100.0, 0.25', 'amp', 10)\n",
      "('ic, 100.0, 0.25', 'rise_time', 10)\n",
      "('ic, 100.0, 0.25', 'decay_tau', 10)\n",
      "('ic, 100.0, 0.25', 'latency', 10)\n",
      "('ic, 100.0, 0.25', 'rise_time', 3)\n",
      "('ic, 100.0, 0.25', 'amp', 3)\n",
      "('ic, 100.0, 0.25', 'decay_tau', 3)\n",
      "('ic, 100.0, 0.25', 'latency', 3)\n",
      "('ic, 100.0, 0.25', 'amp', 11)\n",
      "('ic, 100.0, 0.25', 'latency', 11)\n",
      "('ic, 100.0, 0.25', 'rise_time', 11)\n",
      "('ic, 100.0, 0.25', 'decay_tau', 11)\n",
      "('ic, 100.0, 0.25', 'decay_tau', 4)\n",
      "('ic, 100.0, 0.25', 'amp', 4)\n",
      "('ic, 100.0, 0.25', 'latency', 4)\n",
      "('ic, 100.0, 0.25', 'rise_time', 4)\n",
      "('ic, 100.0, 0.25', 'decay_tau', 5)\n",
      "('ic, 100.0, 0.25', 'latency', 5)\n",
      "('ic, 100.0, 0.25', 'amp', 5)\n",
      "('ic, 100.0, 0.25', 'rise_time', 5)\n",
      "('ic, 100.0, 0.25', 'amp', 12)\n",
      "('ic, 100.0, 0.25', 'decay_tau', 12)\n",
      "('ic, 100.0, 0.25', 'rise_time', 12)\n",
      "('ic, 100.0, 0.25', 'latency', 12)\n",
      "('ic, 100.0, 0.25', 'latency', 6)\n",
      "('ic, 100.0, 0.25', 'amp', 6)\n",
      "('ic, 100.0, 0.25', 'decay_tau', 6)\n",
      "('ic, 100.0, 0.25', 'rise_time', 6)\n",
      "('ic, 100.0, 0.25', 'decay_tau', 7)\n",
      "('ic, 100.0, 0.25', 'latency', 7)\n",
      "('ic, 100.0, 0.25', 'amp', 7)\n",
      "('ic, 100.0, 0.25', 'rise_time', 7)\n",
      "('ic, 100.0, 0.25', 'rise_time', 8)\n",
      "('ic, 100.0, 0.25', 'decay_tau', 8)\n",
      "('ic, 100.0, 0.25', 'latency', 8)\n",
      "('ic, 100.0, 0.25', 'amp', 8)\n",
      "('ic, 100.0, 0.25', 'decay_tau', 1)\n",
      "('ic, 100.0, 0.25', 'rise_time', 1)\n",
      "('ic, 100.0, 0.25', 'latency', 1)\n",
      "('vc, 20.0, 0.25', 'amp', 2)\n",
      "('ic, 100.0, 0.25', 'amp', 1)\n",
      "('vc, 20.0, 0.25', 'rise_time', 2)\n",
      "('vc, 20.0, 0.25', 'latency', 1)\n",
      "('vc, 20.0, 0.25', 'decay_tau', 1)\n",
      "('vc, 20.0, 0.25', 'decay_tau', 2)\n",
      "('vc, 20.0, 0.25', 'amp', 1)\n",
      "('vc, 20.0, 0.25', 'latency', 2)\n",
      "('vc, 20.0, 0.25', 'rise_time', 1)\n",
      "('vc, 20.0, 0.25', 'latency', 3)\n",
      "('vc, 20.0, 0.25', 'amp', 3)\n",
      "('vc, 20.0, 0.25', 'rise_time', 3)\n",
      "('vc, 20.0, 0.25', 'decay_tau', 3)\n",
      "('vc, 20.0, 0.25', 'amp', 5)\n",
      "('vc, 20.0, 0.25', 'latency', 9)\n",
      "('vc, 20.0, 0.25', 'rise_time', 4)\n",
      "('vc, 20.0, 0.25', 'decay_tau', 5)\n",
      "('vc, 20.0, 0.25', 'rise_time', 5)\n",
      "('vc, 20.0, 0.25', 'rise_time', 9)\n",
      "('vc, 20.0, 0.25', 'decay_tau', 9)\n",
      "('vc, 20.0, 0.25', 'latency', 4)\n",
      "('vc, 20.0, 0.25', 'latency', 5)\n",
      "('vc, 20.0, 0.25', 'amp', 6)\n",
      "('vc, 20.0, 0.25', 'amp', 9)\n",
      "('vc, 20.0, 0.25', 'amp', 4)\n",
      "('vc, 20.0, 0.25', 'decay_tau', 4)\n",
      "('vc, 20.0, 0.25', 'decay_tau', 6)\n",
      "('vc, 20.0, 0.25', 'latency', 7)\n",
      "('vc, 20.0, 0.25', 'amp', 10)\n",
      "('ic, 100.0, 0.25', 'amp', 9)\n",
      "('vc, 20.0, 0.25', 'latency', 6)\n",
      "('ic, 100.0, 0.25', 'latency', 9)\n",
      "('vc, 20.0, 0.25', 'amp', 7)\n",
      "('vc, 20.0, 0.25', 'rise_time', 10)\n",
      "('vc, 20.0, 0.25', 'decay_tau', 10)\n",
      "('vc, 20.0, 0.25', 'decay_tau', 7)\n",
      "('ic, 100.0, 0.25', 'decay_tau', 9)\n",
      "('vc, 20.0, 0.25', 'amp', 8)\n",
      "('ic, 100.0, 0.25', 'rise_time', 9)\n",
      "('vc, 20.0, 0.25', 'decay_tau', 12)\n",
      "('vc, 20.0, 0.25', 'rise_time', 7)\n",
      "('vc, 20.0, 0.25', 'rise_time', 6)\n",
      "('vc, 20.0, 0.25', 'latency', 10)\n",
      "('vc, 20.0, 0.25', 'rise_time', 8)\n",
      "('vc, 20.0, 0.25', 'latency', 8)\n",
      "('vc, 20.0, 0.25', 'decay_tau', 8)\n",
      "('vc, 20.0, 0.25', 'rise_time', 12)\n",
      "('vc, 20.0, 0.25', 'amp', 11)\n",
      "('vc, 20.0, 0.25', 'amp', 12)\n",
      "('vc, 20.0, 0.25', 'decay_tau', 11)\n",
      "('vc, 20.0, 0.25', 'latency', 11)\n",
      "('vc, 20.0, 0.25', 'rise_time', 11)\n",
      "('vc, 20.0, 0.25', 'latency', 12)\n",
      "('ic, 10.0, 0.25', 'decay_tau', 2)\n",
      "('ic, 10.0, 0.25', 'amp', 2)\n",
      "('ic, 10.0, 0.25', 'latency', 2)\n",
      "('ic, 10.0, 0.25', 'rise_time', 2)\n",
      "('ic, 10.0, 0.25', 'latency', 1)\n",
      "('ic, 10.0, 0.25', 'rise_time', 1)\n",
      "('ic, 10.0, 0.25', 'amp', 1)\n",
      "('ic, 10.0, 0.25', 'decay_tau', 1)\n",
      "('ic, 10.0, 0.25', 'amp', 8)\n",
      "('ic, 10.0, 0.25', 'latency', 8)\n",
      "('ic, 10.0, 0.25', 'latency', 3)\n",
      "('ic, 10.0, 0.25', 'amp', 3)\n",
      "('ic, 10.0, 0.25', 'rise_time', 4)\n",
      "('ic, 10.0, 0.25', 'decay_tau', 4)\n",
      "('ic, 10.0, 0.25', 'amp', 4)\n",
      "('ic, 10.0, 0.25', 'decay_tau', 8)\n",
      "('ic, 10.0, 0.25', 'decay_tau', 3)\n",
      "('ic, 10.0, 0.25', 'rise_time', 8)\n",
      "('ic, 10.0, 0.25', 'rise_time', 3)\n",
      "('ic, 10.0, 0.25', 'latency', 4)\n",
      "('ic, 10.0, 0.25', 'decay_tau', 5)\n",
      "('ic, 10.0, 0.25', 'rise_time', 5)\n",
      "('ic, 10.0, 0.25', 'latency', 5)\n",
      "('ic, 10.0, 0.25', 'amp', 5)\n",
      "('ic, 10.0, 0.25', 'amp', 6)\n",
      "('ic, 10.0, 0.25', 'rise_time', 6)\n",
      "('ic, 10.0, 0.25', 'latency', 6)\n",
      "('ic, 10.0, 0.25', 'decay_tau', 6)\n",
      "('ic, 10.0, 0.25', 'latency', 7)\n",
      "('ic, 10.0, 0.25', 'rise_time', 7)\n",
      "('ic, 10.0, 0.25', 'amp', 7)\n",
      "('ic, 10.0, 0.25', 'decay_tau', 7)\n",
      "('ic, 10.0, 0.25', 'rise_time', 11)\n",
      "('ic, 10.0, 0.25', 'amp', 11)\n",
      "('ic, 10.0, 0.25', 'decay_tau', 11)\n",
      "('ic, 10.0, 0.25', 'latency', 11)\n",
      "('ic, 10.0, 0.25', 'amp', 10)\n",
      "('ic, 10.0, 0.25', 'latency', 10)\n",
      "('ic, 10.0, 0.25', 'rise_time', 10)\n",
      "('ic, 10.0, 0.25', 'decay_tau', 10)\n",
      "('ic, 10.0, 0.25', 'rise_time', 12)\n",
      "('ic, 10.0, 0.25', 'amp', 12)\n",
      "('ic, 10.0, 0.25', 'latency', 12)\n",
      "('ic, 10.0, 0.25', 'decay_tau', 12)\n",
      "('ic, 10.0, 0.25', 'rise_time', 9)\n",
      "('ic, 10.0, 0.25', 'decay_tau', 9)\n",
      "('ic, 10.0, 0.25', 'latency', 9)\n",
      "('ic, 10.0, 0.25', 'amp', 9)\n",
      "('ic, 50.0, 2.0', 'amp', 3)\n",
      "('ic, 50.0, 2.0', 'decay_tau', 3)\n",
      "('ic, 50.0, 2.0', 'latency', 3)\n",
      "('ic, 50.0, 2.0', 'rise_time', 3)\n",
      "('ic, 50.0, 2.0', 'decay_tau', 4)\n",
      "('ic, 50.0, 2.0', 'amp', 5)\n",
      "('ic, 50.0, 2.0', 'latency', 4)\n",
      "('ic, 50.0, 2.0', 'amp', 4)\n",
      "('ic, 50.0, 2.0', 'rise_time', 5)\n",
      "('ic, 50.0, 2.0', 'rise_time', 4)\n",
      "('ic, 50.0, 2.0', 'latency', 5)\n",
      "('ic, 50.0, 2.0', 'decay_tau', 5)\n",
      "('ic, 50.0, 2.0', 'latency', 6)\n",
      "('ic, 50.0, 2.0', 'rise_time', 6)\n",
      "('ic, 50.0, 2.0', 'decay_tau', 6)\n",
      "('ic, 50.0, 2.0', 'amp', 6)\n",
      "('ic, 50.0, 2.0', 'amp', 8)\n",
      "('ic, 50.0, 2.0', 'decay_tau', 8)\n",
      "('ic, 50.0, 2.0', 'rise_time', 8)\n",
      "('ic, 50.0, 2.0', 'rise_time', 11)\n",
      "('ic, 50.0, 2.0', 'latency', 8)\n",
      "('ic, 50.0, 2.0', 'decay_tau', 11)\n",
      "('ic, 50.0, 2.0', 'decay_tau', 7)\n",
      "('ic, 50.0, 2.0', 'amp', 11)\n",
      "('ic, 50.0, 2.0', 'latency', 7)\n",
      "('ic, 50.0, 2.0', 'rise_time', 7)\n",
      "('ic, 50.0, 2.0', 'latency', 11)\n",
      "('ic, 50.0, 2.0', 'amp', 7)\n",
      "('ic, 50.0, 2.0', 'amp', 12)\n",
      "('ic, 50.0, 2.0', 'amp', 2)\n",
      "('ic, 50.0, 2.0', 'rise_time', 12)\n",
      "('ic, 50.0, 2.0', 'latency', 2)\n",
      "('ic, 50.0, 2.0', 'latency', 12)\n",
      "('ic, 50.0, 2.0', 'decay_tau', 12)\n",
      "('ic, 50.0, 2.0', 'rise_time', 2)\n",
      "('ic, 50.0, 2.0', 'decay_tau', 2)\n",
      "('ic, 50.0, 2.0', 'amp', 10)\n",
      "('ic, 50.0, 2.0', 'latency', 10)\n",
      "('ic, 50.0, 2.0', 'decay_tau', 10)\n",
      "('ic, 50.0, 2.0', 'rise_time', 10)\n",
      "('ic, 50.0, 2.0', 'amp', 1)\n",
      "('ic, 50.0, 2.0', 'decay_tau', 1)\n",
      "('ic, 50.0, 2.0', 'latency', 1)\n",
      "('ic, 50.0, 2.0', 'rise_time', 1)\n",
      "('ic, 50.0, 2.0', 'amp', 9)\n",
      "('ic, 50.0, 2.0', 'rise_time', 9)\n",
      "('ic, 50.0, 2.0', 'decay_tau', 9)\n",
      "('ic, 50.0, 2.0', 'latency', 9)\n",
      "('ic, 50.0, 0.125', 'decay_tau', 3)\n",
      "('ic, 50.0, 0.125', 'rise_time', 3)\n",
      "('ic, 50.0, 0.125', 'latency', 3)\n",
      "('ic, 50.0, 0.125', 'amp', 3)\n",
      "('ic, 50.0, 0.125', 'decay_tau', 2)\n",
      "('ic, 50.0, 0.125', 'decay_tau', 4)\n",
      "('ic, 50.0, 0.125', 'rise_time', 2)\n",
      "('ic, 50.0, 0.125', 'amp', 2)\n",
      "('ic, 50.0, 0.125', 'latency', 4)\n",
      "('ic, 50.0, 0.125', 'rise_time', 4)\n",
      "('ic, 50.0, 0.125', 'latency', 2)\n",
      "('ic, 50.0, 0.125', 'amp', 4)\n",
      "('ic, 200.0, 0.25', 'decay_tau', 10)\n",
      "('ic, 200.0, 0.25', 'amp', 10)\n",
      "('ic, 200.0, 0.25', 'latency', 10)\n",
      "('ic, 200.0, 0.25', 'rise_time', 10)\n",
      "('ic, 200.0, 0.25', 'latency', 2)\n",
      "('ic, 200.0, 0.25', 'rise_time', 2)\n",
      "('ic, 200.0, 0.25', 'amp', 2)\n",
      "('ic, 200.0, 0.25', 'decay_tau', 2)\n",
      "('ic, 50.0, 0.125', 'latency', 10)\n",
      "('ic, 50.0, 0.125', 'amp', 10)\n",
      "('ic, 50.0, 0.125', 'rise_time', 10)\n",
      "('ic, 50.0, 0.125', 'amp', 1)\n",
      "('ic, 50.0, 0.125', 'rise_time', 1)\n",
      "('ic, 50.0, 0.125', 'decay_tau', 10)\n",
      "('ic, 50.0, 0.125', 'decay_tau', 1)\n",
      "('ic, 50.0, 0.125', 'decay_tau', 5)\n",
      "('ic, 50.0, 0.125', 'rise_time', 5)\n",
      "('ic, 50.0, 0.125', 'latency', 1)\n",
      "('ic, 50.0, 0.125', 'amp', 11)\n",
      "('ic, 50.0, 0.125', 'latency', 5)\n",
      "('ic, 50.0, 0.125', 'rise_time', 11)\n",
      "('ic, 50.0, 0.125', 'latency', 11)\n",
      "('ic, 50.0, 0.125', 'amp', 5)\n",
      "('ic, 50.0, 0.125', 'rise_time', 6)\n",
      "('ic, 50.0, 0.125', 'amp', 6)\n",
      "('ic, 50.0, 0.125', 'latency', 6)\n",
      "('ic, 50.0, 0.125', 'decay_tau', 6)\n",
      "('ic, 50.0, 0.125', 'decay_tau', 11)\n",
      "('ic, 50.0, 0.125', 'decay_tau', 7)\n",
      "('ic, 50.0, 0.125', 'amp', 7)\n",
      "('ic, 50.0, 0.125', 'rise_time', 7)\n",
      "('ic, 50.0, 0.125', 'latency', 7)\n",
      "('ic, 50.0, 0.125', 'rise_time', 12)\n",
      "('ic, 50.0, 0.125', 'latency', 12)\n",
      "('ic, 50.0, 0.125', 'amp', 12)\n",
      "('ic, 50.0, 0.125', 'decay_tau', 12)\n",
      "('ic, 50.0, 0.125', 'rise_time', 8)\n",
      "('ic, 50.0, 0.125', 'decay_tau', 8)\n",
      "('ic, 50.0, 0.125', 'amp', 8)\n",
      "('ic, 50.0, 0.125', 'latency', 8)\n",
      "('ic, 200.0, 0.25', 'rise_time', 1)\n",
      "('ic, 200.0, 0.25', 'latency', 1)\n",
      "('ic, 200.0, 0.25', 'decay_tau', 1)\n",
      "('ic, 200.0, 0.25', 'amp', 1)\n",
      "('ic, 200.0, 0.25', 'latency', 9)\n",
      "('ic, 200.0, 0.25', 'amp', 9)\n",
      "('ic, 200.0, 0.25', 'rise_time', 9)\n",
      "('ic, 200.0, 0.25', 'decay_tau', 9)\n",
      "('ic, 200.0, 0.25', 'decay_tau', 11)\n",
      "('ic, 200.0, 0.25', 'amp', 11)\n",
      "('ic, 200.0, 0.25', 'decay_tau', 3)\n",
      "('ic, 200.0, 0.25', 'rise_time', 11)\n",
      "('ic, 200.0, 0.25', 'latency', 11)\n",
      "('ic, 200.0, 0.25', 'latency', 3)\n",
      "('ic, 200.0, 0.25', 'amp', 3)\n",
      "('ic, 200.0, 0.25', 'rise_time', 3)\n"
     ]
    }
   ],
   "source": [
    "for f in feature_list_sorted: print(f)"
   ]
  },
  {
   "cell_type": "markdown",
   "metadata": {},
   "source": [
    "Data values are quite small; `median` values for the features is `~0.02`. "
   ]
  },
  {
   "cell_type": "code",
   "execution_count": 9,
   "metadata": {},
   "outputs": [
    {
     "data": {
      "text/plain": [
       "Text(0.5, 0, 'Features')"
      ]
     },
     "execution_count": 9,
     "metadata": {},
     "output_type": "execute_result"
    },
    {
     "data": {
      "image/png": "[encoded data removed]",
      "text/plain": [
       "<Figure size 432x288 with 1 Axes>"
      ]
     },
     "metadata": {
      "needs_background": "light"
     },
     "output_type": "display_data"
    }
   ],
   "source": [
    "plt.figure()\n",
    "plt.plot(np.nanmax(data_sorted,axis=0),alpha = 0.4,label='max')\n",
    "plt.plot(np.nanmin(data_sorted,axis=0),alpha = 1,label='min')\n",
    "plt.plot(np.nanmedian(data_sorted,axis=0),alpha = 1,label='median')\n",
    "plt.legend()\n",
    "ax = plt.gca()\n",
    "ax.set_ylim(-0.5,6)\n",
    "ax.set_xlabel('Features')"
   ]
  },
  {
   "cell_type": "markdown",
   "metadata": {},
   "source": [
    "Final layer of the network is chosen to have a linear activation function since the dataset is standardized."
   ]
  },
  {
   "cell_type": "code",
   "execution_count": 10,
   "metadata": {},
   "outputs": [
    {
     "data": {
      "text/plain": [
       "Text(0.5, 0, 'Feature values')"
      ]
     },
     "execution_count": 10,
     "metadata": {},
     "output_type": "execute_result"
    },
    {
     "data": {
      "image/png": "[encoded data removed]",
      "text/plain": [
       "<Figure size 432x288 with 1 Axes>"
      ]
     },
     "metadata": {
      "needs_background": "light"
     },
     "output_type": "display_data"
    }
   ],
   "source": [
    "#Standardize data:\n",
    "norm_data = (data_sorted - np.nanmean(data_sorted,axis=0))/(np.nanstd(data_sorted,axis=0)+1e-10)\n",
    "plt.figure()\n",
    "plt.plot(np.nanmax(norm_data,axis=0),alpha = 0.4,label='max')\n",
    "plt.plot(np.nanmin(norm_data,axis=0),alpha = 0.4,label='min')\n",
    "plt.legend()\n",
    "ax = plt.gca()\n",
    "ax.set_xlabel('Features')\n",
    "ax.set_xlabel('Feature values')"
   ]
  },
  {
   "cell_type": "code",
   "execution_count": null,
   "metadata": {},
   "outputs": [],
   "source": [
    "# impute data to fill in nans\n",
    "from sklearn.impute import SimpleImputer\n",
    "imputed = SimpleImputer(missing_values=np.nan, strategy='median').fit_transform(norm_data)\n",
    "imputed.shape\n",
    "#np.save('median_imputed_array_09_26_2019.npy', imputed)"
   ]
  },
  {
   "cell_type": "code",
   "execution_count": null,
   "metadata": {},
   "outputs": [],
   "source": []
  },
  {
   "cell_type": "code",
   "execution_count": null,
   "metadata": {},
   "outputs": [],
   "source": [
    "from sklearn.decomposition import PCA\n",
    "pca = PCA(n_components=2).fit_transform(imputed)"
   ]
  },
  {
   "cell_type": "code",
   "execution_count": null,
   "metadata": {},
   "outputs": [],
   "source": [
    "plt.figure()\n",
    "plt.scatter(pca[:,0], pca[:,1])\n",
    "plt.show()"
   ]
  },
  {
   "cell_type": "code",
   "execution_count": null,
   "metadata": {},
   "outputs": [],
   "source": [
    "#this takes a very long time\n",
    "# from sklearn.manifold import TSNE\n",
    "# tsne_embedded = TSNE(n_components=2).fit_transform(imputed)"
   ]
  },
  {
   "cell_type": "code",
   "execution_count": null,
   "metadata": {},
   "outputs": [],
   "source": [
    "# tsne_embedded.shape\n",
    "# plt.figure()\n",
    "# plt.scatter(tsne_embedded[:,0], tsne_embedded[:,1])\n",
    "# plt.show()"
   ]
  },
  {
   "cell_type": "code",
   "execution_count": null,
   "metadata": {},
   "outputs": [],
   "source": [
    "#Append z to the annotations:\n",
    "anno_df = anno_df.assign(aec0=mat['z'][:,0])\n",
    "anno_df = anno_df.assign(aec1=mat['z'][:,1])\n",
    "anno_df = anno_df.assign(pca0=pca[:,0])\n",
    "anno_df = anno_df.assign(pca1=pca[:,1])\n",
    "anno_df = anno_df.assign(tsne0=tsne_embedded[:,0])\n",
    "anno_df = anno_df.assign(tsne1=tsne_embedded[:,1])"
   ]
  },
  {
   "cell_type": "code",
   "execution_count": null,
   "metadata": {},
   "outputs": [],
   "source": [
    "print(mat['z'][:,1].shape)\n",
    "print(pca[:,0].shape)\n",
    "print(anno_df.shape)\n",
    "print(anno_df.keys())"
   ]
  },
  {
   "cell_type": "code",
   "execution_count": null,
   "metadata": {},
   "outputs": [],
   "source": [
    "#Create a single label by concatenating pre_cre,post_cre,pre_layer, and post_layer labels\n",
    "anno_df = anno_df.assign(combined_anno=(anno_df['pre_cre'].map(str) + '_' + anno_df['post_cre'].map(str) + '_' \n",
    "                   +anno_df['pre_layer'].map(str) +'_' +anno_df['post_layer'].map(str)).astype('str'))"
   ]
  },
  {
   "cell_type": "code",
   "execution_count": null,
   "metadata": {},
   "outputs": [],
   "source": [
    "#Assign numeric ids to unique rows. `1000` is assigned to any rows containing `unknown` or `nan`\n",
    "#anno_df = anno_df.assign(id=(anno_df['combined_anno']).astype('category').cat.codes)\n",
    "#anno_df.loc[anno_df['combined_anno'].str.contains('unknown') | anno_df['combined_anno'].str.contains('nan'),'id']=1000\n",
    "\n",
    "#Select only cells with no nans or unkowns in the annotation columns.\n",
    "#X = anno_df.loc[anno_df['id'].values!=1000,['aec0','aec1','id','pre_post_cre','combined_anno','pre_cell','post_cell','pre_cre','post_cre','pre_layer','post_layer']]"
   ]
  },
  {
   "cell_type": "markdown",
   "metadata": {},
   "source": [
    "Next block keeps all the rows in the dataset"
   ]
  },
  {
   "cell_type": "code",
   "execution_count": null,
   "metadata": {},
   "outputs": [],
   "source": [
    "#Create a single label by concatenating pre_cre and post_cre labels\n",
    "anno_df = anno_df.assign(pre_post_cre=(anno_df['pre_cre'].map(str) + '_' + anno_df['post_cre'].map(str)))\n",
    "X = anno_df\n",
    "\n"
   ]
  },
  {
   "cell_type": "markdown",
   "metadata": {},
   "source": [
    "## Start here if you are just using saved emeddings"
   ]
  },
  {
   "cell_type": "code",
   "execution_count": null,
   "metadata": {},
   "outputs": [],
   "source": [
    "#X.to_csv('aec_pca_tsne_09_26_2019.csv', sep='#')\n",
    "X = pd.read_csv('aec_pca_tsne_09_26_2019.csv', sep='#',low_memory=False)\n",
    "X.keys()"
   ]
  },
  {
   "cell_type": "code",
   "execution_count": null,
   "metadata": {},
   "outputs": [],
   "source": [
    "#Number of rows for each unique annotation:\n",
    "for i in ['pre_cell','post_cell','pre_cre','post_cre','pre_layer','post_layer','pre_post_cre']:\n",
    "    print('\\n-----')\n",
    "    print(X[i].value_counts())"
   ]
  },
  {
   "cell_type": "code",
   "execution_count": null,
   "metadata": {},
   "outputs": [],
   "source": [
    "# no longer needed with updated file\n",
    "# # test to make cre excitation is specified and there is not new cre-lines in the data\n",
    "# known_pre_cre = ['sst', 'unknown', 'pvalb', 'sim1', 'ntsr1', 'tlx3', 'vip', 'nr5a1','cux2', 'rorb', 'rbp4', 'slc17a8', 'pvalb,sim1', 'pvalb,sst']\n",
    "# known_post_cre = ['unknown', 'pvalb', 'sst', 'sim1', 'tlx3', 'vip', 'nr5a1', 'rorb', 'ntsr1', 'rbp4', 'slc17a8', 'cux2', 'fam84b'] \n",
    "# if X['pre_cre'].unique().any() not in known_pre_cre:\n",
    "#     raise Exception('there are new pre synaptic cre lines')\n",
    "# if X['post_cre'].unique().any() not in known_post_cre:\n",
    "#     raise Exception('there are new post synaptic cre lines')\n",
    "\n",
    "# # specify excitatory and inhibitory cre-lines\n",
    "# excitation_specification= {'unknown': 'U',\n",
    "#                            'pvalb,sim1': 'U',\n",
    "#                            'pvalb': 'I',\n",
    "#                            'sst': 'I', \n",
    "#                            'vip': 'I',\n",
    "#                            'pvalb,sst': 'I',    \n",
    "#                            'sim1': 'E',\n",
    "#                            'tlx3': 'E',              \n",
    "#                            'nr5a1': 'E',  \n",
    "#                            'rorb': 'E',\n",
    "#                            'ntsr1': 'E',\n",
    "#                            'rbp4': 'E',\n",
    "#                            'slc17a8': 'E',\n",
    "#                            'cux2': 'E',\n",
    "#                            'fam84b': 'E'}\n",
    "# # check to make sure all cre-lines are specified\n",
    "# if np.any([k not in excitation_specification.keys()for k in known_pre_cre]) | \\\n",
    "#     np.any([k not in excitation_specification.keys()for k in known_post_cre]): \n",
    "#     raise Exception('a cre line is not defined')\n",
    "    \n",
    "# X = X.assign(pre_excitation=[excitation_specification[a] for a in X['pre_cre']]) \n",
    "# X = X.assign(post_excitation=[excitation_specification[a] for a in X['post_cre']]) \n",
    "# X = X.assign(pre_post_excitation=[excitation_specification[a]+'_'+excitation_specification[b] for a,b in zip(X['pre_cre'], X['post_cre'])]) "
   ]
  },
  {
   "cell_type": "code",
   "execution_count": null,
   "metadata": {},
   "outputs": [],
   "source": [
    "# change columns to strings incase there is a nan\n",
    "for anno in ['expt','pre_cell','post_cell','pre_cre','post_cre','pre_layer','post_layer']:\n",
    "    X[anno]=X[anno].astype('str')\n"
   ]
  },
  {
   "cell_type": "code",
   "execution_count": null,
   "metadata": {
    "scrolled": false
   },
   "outputs": [],
   "source": [
    "#For each every unique label in list 'anno_type', plot scatter maps:\n",
    "def plot_single_catagory(method, xlim, ylim, color='r'): #'pca' or 'aec'\n",
    "    for annotype in ['pre_cell','post_cell','pre_cre','post_cre','pre_layer','post_layer', 'pre_excitation',\n",
    "       'post_excitation']:\n",
    "        i=0\n",
    "        print(annotype)\n",
    "        for label in np.unique(X[annotype]):\n",
    "            if i%4==0:\n",
    "                plt.figure(figsize=(13,3.7))\n",
    "                i=0\n",
    "            plt.subplot(1,4,i+1)\n",
    "            ind = X[annotype]==label\n",
    "            plt.scatter(X[method+'0'][~ind],X[method+'1'][~ind],s=1,c='#CCCCCC',alpha=1)\n",
    "            plt.scatter(X[method+'0'][ind],X[method+'1'][ind],s=1,c=color,alpha=1)\n",
    "            ax = plt.gca()\n",
    "            ax.set_xlim(xlim)\n",
    "            ax.set_ylim(ylim)\n",
    "            ax.set_title(str(annotype)+' - '+str(label))  \n",
    "            i=i+1\n",
    "            plt.tight_layout()\n",
    "        plt.show()\n",
    "    "
   ]
  },
  {
   "cell_type": "code",
   "execution_count": null,
   "metadata": {
    "scrolled": false
   },
   "outputs": [],
   "source": [
    "plot_single_catagory('aec', [-3,4], [-3,4])"
   ]
  },
  {
   "cell_type": "code",
   "execution_count": null,
   "metadata": {
    "scrolled": false
   },
   "outputs": [],
   "source": [
    "plot_single_catagory('pca', [-30,90], [-50,90], color='b')"
   ]
  },
  {
   "cell_type": "code",
   "execution_count": null,
   "metadata": {
    "scrolled": false
   },
   "outputs": [],
   "source": [
    "plot_single_catagory('tsne', [-50,60], [-70,60], color='g')"
   ]
  },
  {
   "cell_type": "code",
   "execution_count": null,
   "metadata": {},
   "outputs": [],
   "source": [
    "def plot_pre_post_cre_combo(method, xlim, ylim, color='r'): #'pca' or 'aec'\n",
    "    i=0\n",
    "    for annotype in ['pre_post_cre', 'pre_post_excitation']:\n",
    "        for label in np.unique(X[annotype]):\n",
    "            if i%4==0:\n",
    "                plt.figure(figsize=(15,4))\n",
    "                i=0\n",
    "            plt.subplot(1,4,i+1)\n",
    "            ind = X[annotype]==label\n",
    "            plt.scatter(X[method+'0'][~ind],X[method+'1'][~ind],s=1,c='#CCCCCC',alpha=1)\n",
    "            plt.scatter(X[method+'0'][ind],X[method+'1'][ind],s=1,c=color,alpha=1)\n",
    "\n",
    "            ax = plt.gca()\n",
    "            ax.set_xlim(xlim)\n",
    "            ax.set_ylim(ylim)\n",
    "            idx = str(annotype)+' - '+str(label)\n",
    "            idx = str(label)\n",
    "            ax.set_title(idx+' n='+str(np.sum(ind)))\n",
    "\n",
    "            plt.tight_layout()\n",
    "            i+=1\n",
    "            fname = ('./pre_post_cre/{}.png').format(idx)\n",
    "\n",
    "            #plt.savefig(fname,dpi=600)\n",
    "        plt.show()\n",
    "        #plt.close()\n",
    "        "
   ]
  },
  {
   "cell_type": "code",
   "execution_count": null,
   "metadata": {
    "scrolled": false
   },
   "outputs": [],
   "source": [
    "plot_pre_post_cre_combo('aec', [-3,4], [-3,4])"
   ]
  },
  {
   "cell_type": "code",
   "execution_count": null,
   "metadata": {
    "scrolled": false
   },
   "outputs": [],
   "source": [
    "plot_pre_post_cre_combo('pca', [-30,90], [-50,90], color='b')"
   ]
  },
  {
   "cell_type": "code",
   "execution_count": null,
   "metadata": {
    "scrolled": false
   },
   "outputs": [],
   "source": [
    "plot_pre_post_cre_combo('tsne', [-50,60], [-70,60], color='g')"
   ]
  },
  {
   "cell_type": "code",
   "execution_count": null,
   "metadata": {},
   "outputs": [],
   "source": [
    "# #Use joins to combine labels\n",
    "# pre_layer_df = pd.DataFrame({'pre_layer':['2/3','4','5','6'],\n",
    "#                              'pre_layer_color':[1,2,3,4]})\n",
    "# X = X.join(pre_layer_df.set_index('pre_layer'), on='pre_layer')\n",
    "# X = X.join(post_layer_df.set_index('post_layer'), on='post_layer')\n",
    "# X = X.join(pre_cre_df.set_index('pre_cre'), on='pre_cre')\n",
    "# X = X.join(post_cre_df.set_index('post_cre'), on='post_cre')"
   ]
  },
  {
   "cell_type": "code",
   "execution_count": null,
   "metadata": {},
   "outputs": [],
   "source": []
  },
  {
   "cell_type": "code",
   "execution_count": null,
   "metadata": {},
   "outputs": [],
   "source": [
    "# #Sanity check for network training:\n",
    "# loss = pd.read_csv(data_dir+'logs/std_data_run_0_cv_0_ng_500_pd_0-5_bs_1000_ld_2_ne_5000_ri_0.csv',sep=',')\n",
    "# plt.figure(figsize = (3,3))\n",
    "# plt.plot(loss['epoch'],loss['loss'],label='Train')\n",
    "# plt.plot(loss['epoch'],loss['val_loss'],label='Val')\n",
    "# ax = plt.gca()\n",
    "# ax.set_xlabel('Epochs')\n",
    "# ax.set_ylabel('Masked MSE')\n",
    "# ax.set_ylim(0.13,0.16)\n",
    "# plt.legend()\n",
    "# plt.show()"
   ]
  }
 ],
 "metadata": {
  "kernelspec": {
   "display_name": "Python 3",
   "language": "python",
   "name": "python3"
  },
  "language_info": {
   "codemirror_mode": {
    "name": "ipython",
    "version": 3
   },
   "file_extension": ".py",
   "mimetype": "text/x-python",
   "name": "python",
   "nbconvert_exporter": "python",
   "pygments_lexer": "ipython3",
   "version": "3.7.3"
  }
 },
 "nbformat": 4,
 "nbformat_minor": 2
}
